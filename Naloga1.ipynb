{
 "cells": [
  {
   "cell_type": "markdown",
   "metadata": {},
   "source": [
    "To je jupyter: program za lažje programiranje v pythonu. \n",
    "\n",
    "Bljižnice za pomoč:\n",
    "* zaženi vrstico: ctrl+enter\n",
    "* [Tukaj jih je še več](https://www.dataquest.io/blog/jupyter-notebook-tips-tricks-shortcuts/)"
   ]
  },
  {
   "cell_type": "markdown",
   "metadata": {
    "collapsed": true
   },
   "source": [
    "**Prva naloga** \n",
    "\n",
    "Napiši \"Hello world!\""
   ]
  },
  {
   "cell_type": "code",
   "execution_count": 4,
   "metadata": {},
   "outputs": [
    {
     "name": "stdout",
     "output_type": "stream",
     "text": [
      "hello world!\n"
     ]
    }
   ],
   "source": [
    "print(\"hello world!\")"
   ]
  },
  {
   "cell_type": "markdown",
   "metadata": {
    "collapsed": true
   },
   "source": [
    "**Druga naloga ** \n",
    "\n",
    "Preberi vhodni podatek in ga shrani v novo spremenljivko. Za vhodno besedilo naj bo zapisano \"Vnesi ime:\". Nato v konzolo napiši ```\"Živijo, <njegov ime>!\"```."
   ]
  },
  {
   "cell_type": "code",
   "execution_count": null,
   "metadata": {
    "collapsed": true
   },
   "outputs": [],
   "source": [
    "# Namig: funkcija za branje vhodnih podatkov je \n",
    "# spremenljivka = input(\"Nekej napisanega\")"
   ]
  },
  {
   "cell_type": "markdown",
   "metadata": {},
   "source": [
    "**Tretja naloga**\n",
    "\n",
    "Imaš dve spremenljivki a in b. Naredi novo spremenljivko c z vrednostjo seštevka prvih dveh spremenljivk. Program naj na koncu izpiše c."
   ]
  },
  {
   "cell_type": "code",
   "execution_count": null,
   "metadata": {},
   "outputs": [],
   "source": [
    "a = 13\n",
    "b = 20\n"
   ]
  },
  {
   "cell_type": "markdown",
   "metadata": {},
   "source": [
    "**Četrta naloga**\n",
    "\n",
    "S pomočjo for zanke štirikrat printaj ```\"Trenutno smo na številki <številka od 1 do 4>.\"```"
   ]
  },
  {
   "cell_type": "code",
   "execution_count": null,
   "metadata": {},
   "outputs": [],
   "source": []
  },
  {
   "cell_type": "markdown",
   "metadata": {},
   "source": [
    "**Peta naloga**\n",
    "\n",
    "Preberi vhodni podatek. Besedilo naj bo ```\"Kaj imaš raje: kamen ali list?\"```. Če je napisal list, naj program izpiše ```\"Ti nimaš pojma..\"```, če je napisal kamen, naj izpiše ```\"Ti si car!\"```, drugače pa ```\"Vnesi besedo list ali kamen.\"```."
   ]
  },
  {
   "cell_type": "code",
   "execution_count": null,
   "metadata": {},
   "outputs": [],
   "source": []
  },
  {
   "cell_type": "markdown",
   "metadata": {},
   "source": [
    "**Šesta naloga**\n",
    "\n",
    "Imaš seznam števil, z zanko seštej vsa števila. Na koncu izpiši to število."
   ]
  },
  {
   "cell_type": "code",
   "execution_count": 4,
   "metadata": {},
   "outputs": [],
   "source": [
    "vektor = [4, 3, 52, 3, 2, 5, 23]\n"
   ]
  }
 ],
 "metadata": {
  "kernelspec": {
   "display_name": "Python 3",
   "language": "python",
   "name": "python3"
  },
  "language_info": {
   "codemirror_mode": {
    "name": "ipython",
    "version": 3
   },
   "file_extension": ".py",
   "mimetype": "text/x-python",
   "name": "python",
   "nbconvert_exporter": "python",
   "pygments_lexer": "ipython3",
   "version": "3.5.2"
  }
 },
 "nbformat": 4,
 "nbformat_minor": 2
}
