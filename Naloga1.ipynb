{
 "cells": [
  {
   "cell_type": "markdown",
   "metadata": {},
   "source": [
    "To je jupyter: program za lažje programiranje v pythonu. \n",
    "\n",
    "Bljižnice za pomoč:\n",
    "* zaženi vrstico: ctrl+enter\n",
    "* [Tukaj jih je še več](https://www.dataquest.io/blog/jupyter-notebook-tips-tricks-shortcuts/)"
   ]
  },
  {
   "cell_type": "markdown",
   "metadata": {
    "collapsed": true
   },
   "source": [
    "**Prva naloga** \n",
    "\n",
    "Napiši \"Hello world!\""
   ]
  },
  {
   "cell_type": "code",
   "execution_count": 2,
   "metadata": {},
   "outputs": [
    {
     "name": "stdout",
     "output_type": "stream",
     "text": [
      "Hello world!\n"
     ]
    }
   ],
   "source": [
    "print(\"Hello world!\")"
   ]
  },
  {
   "cell_type": "markdown",
   "metadata": {
    "collapsed": true
   },
   "source": [
    "**Druga naloga ** \n",
    "\n",
    "Preberi vhodni podatek in ga shrani v novo spremenljivko. Za vhodno besedilo naj bo zapisano \"Vnesi ime:\". Nato v konzolo napiši ```\"Živijo, <njegov ime>!\"```."
   ]
  },
  {
   "cell_type": "code",
   "execution_count": 13,
   "metadata": {},
   "outputs": [
    {
     "name": "stdout",
     "output_type": "stream",
     "text": [
      "Vnesi ime:as\n",
      "Živijo, as!\n"
     ]
    }
   ],
   "source": [
    "# Namig: funkcija za branje vhodnih podatkov je \n",
    "# spremenljivka = input(\"Nekej napisanega\")\n",
    "ime = input(\"Vnesi ime:\")\n",
    "print(\"Živijo, \" + ime + \"!\")\n"
   ]
  }
 ],
 "metadata": {
  "kernelspec": {
   "display_name": "Python 3",
   "language": "python",
   "name": "python3"
  },
  "language_info": {
   "codemirror_mode": {
    "name": "ipython",
    "version": 3
   },
   "file_extension": ".py",
   "mimetype": "text/x-python",
   "name": "python",
   "nbconvert_exporter": "python",
   "pygments_lexer": "ipython3",
   "version": "3.6.3"
  }
 },
 "nbformat": 4,
 "nbformat_minor": 2
}
