{
 "cells": [
  {
   "cell_type": "markdown",
   "metadata": {},
   "source": [
    "To je jupyter: program za lažje programiranje v pythonu. \n",
    "\n",
    "Bljižnice za pomoč:\n",
    "* zaženi vrstico: ctrl+enter\n",
    "* [Tukaj jih je še več](https://www.dataquest.io/blog/jupyter-notebook-tips-tricks-shortcuts/)"
   ]
  },
  {
   "cell_type": "markdown",
   "metadata": {
    "collapsed": true
   },
   "source": [
    "**Prva naloga** \n",
    "\n",
    "Napiši \"Hello world!\""
   ]
  },
  {
   "cell_type": "code",
   "execution_count": 2,
   "metadata": {},
   "outputs": [
    {
     "name": "stdout",
     "output_type": "stream",
     "text": [
      "Hello world!\n"
     ]
    }
   ],
   "source": [
    "print(\"Hello world!\")"
   ]
  },
  {
   "cell_type": "markdown",
   "metadata": {
    "collapsed": true
   },
   "source": [
    "**Druga naloga ** \n",
    "\n",
    "Preberi vhodni podatek in ga shrani v novo spremenljivko. Za vhodno besedilo naj bo zapisano \"Vnesi ime:\". Nato v konzolo napiši ```\"Živijo, <njegov ime>!\"```."
   ]
  },
  {
   "cell_type": "code",
   "execution_count": 13,
   "metadata": {},
   "outputs": [
    {
     "name": "stdout",
     "output_type": "stream",
     "text": [
      "Vnesi ime:as\n",
      "Živijo, as!\n"
     ]
    }
   ],
   "source": [
    "# Namig: funkcija za branje vhodnih podatkov je \n",
    "# spremenljivka = input(\"Nekej napisanega\")\n",
    "ime = input(\"Vnesi ime:\")\n",
    "print(\"Živijo, \" + ime + \"!\")\n"
   ]
  },
  {
   "cell_type": "markdown",
   "metadata": {},
   "source": [
    "**Tretja naloga**\n",
    "\n",
    "Imaš dve spremenljivki a in b. Naredi novo spremenljivko c z vrednostjo seštevka prvih dveh spremenljivk. Program naj na koncu izpiše c."
   ]
  },
  {
   "cell_type": "code",
   "execution_count": 66,
   "metadata": {},
   "outputs": [
    {
     "name": "stdout",
     "output_type": "stream",
     "text": [
      "33 c\n"
     ]
    }
   ],
   "source": [
    "a = 13\n",
    "b = 20\n",
    "c = (a+b)\n",
    "print (c ,\"c\")\n"
   ]
  },
  {
   "cell_type": "markdown",
   "metadata": {},
   "source": [
    "**Četrta naloga**\n",
    "\n",
    "S pomočjo for zanke štirikrat printaj ```\"Trenutno smo na številki <številka od 1 do 4>.\"```"
   ]
  },
  {
   "cell_type": "code",
   "execution_count": null,
   "metadata": {
    "collapsed": true
   },
   "outputs": [],
   "source": [
    "#for spremenljivka in range(od, do):\n",
    "#    koda\n",
    "for i in range(1, 5):\n",
    "    print(\"Trenutno smo na številki\", i, \".\")"
   ]
  },
  {
   "cell_type": "markdown",
   "metadata": {},
   "source": [
    "**Peta naloga**\n",
    "\n",
    "Preberi vhodni podatek. Besedilo naj bo ```\"Kaj imaš raje: kamen ali list?\"```. Če je napisal list, naj program izpiše ```\"Ti nimaš pojma..\"```, če je napisal kamen, naj izpiše ```\"Ti si car!\"```, drugače pa ```\"Vnesi besedo list ali kamen.\"```."
   ]
  },
  {
   "cell_type": "code",
   "execution_count": 6,
   "metadata": {},
   "outputs": [
    {
     "name": "stdout",
     "output_type": "stream",
     "text": [
      "Kaj imaš raje: list ali kamenafsdsd\n",
      "Vnesi besedo list ali kamen.\n"
     ]
    }
   ],
   "source": [
    "izbira = input(\"Kaj imaš raje: list ali kamen\")\n",
    "if izbira==\"list\":\n",
    "    print(\"Ti nimaš pojma..\")\n",
    "elif izbira==\"kamen\":\n",
    "    print(\"Ti si car!\")\n",
    "else:\n",
    "    print(\"Vnesi besedo list ali kamen.\")\n",
    "    \n",
    "\n",
    "    \n"
   ]
  },
  {
   "cell_type": "markdown",
   "metadata": {},
   "source": [
    "**Šesta naloga**\n",
    "\n",
    "Imaš seznam števil, z zanko seštej vsa števila. Na koncu izpiši to število."
   ]
  },
  {
   "cell_type": "code",
   "execution_count": 60,
   "metadata": {},
   "outputs": [
    {
     "name": "stdout",
     "output_type": "stream",
     "text": [
      "92\n"
     ]
    }
   ],
   "source": [
    "vektor = [4, 3, 52, 3, 2, 5, 23]\n",
    "seštevek = 0\n",
    "\n",
    "for s in vektor:\n",
    "    seštevek += s\n",
    "print(seštevek)"
   ]
  }
 ],
 "metadata": {
  "kernelspec": {
   "display_name": "Python 3",
   "language": "python",
   "name": "python3"
  },
  "language_info": {
   "codemirror_mode": {
    "name": "ipython",
    "version": 3
   },
   "file_extension": ".py",
   "mimetype": "text/x-python",
   "name": "python",
   "nbconvert_exporter": "python",
   "pygments_lexer": "ipython3",
   "version": "3.6.3"
  }
 },
 "nbformat": 4,
 "nbformat_minor": 2
}
